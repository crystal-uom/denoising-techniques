{
 "cells": [
  {
   "cell_type": "code",
   "execution_count": 1,
   "metadata": {},
   "outputs": [],
   "source": [
    "import numpy as np\n",
    "import bm3d\n",
    "from pathlib import Path\n",
    "import pickle\n",
    "from skimage import io, img_as_float\n",
    "import os\n",
    "import glob\n",
    "from collections import defaultdict"
   ]
  },
  {
   "cell_type": "markdown",
   "metadata": {},
   "source": [
    "File Paths"
   ]
  },
  {
   "cell_type": "code",
   "execution_count": 2,
   "metadata": {},
   "outputs": [],
   "source": [
    "# Path for input data\n",
    "icip_data = \"D:/VIP Cup/Dataset/ICIP training data/\"\n",
    "\n",
    "# Path for denoised volumetric output data sa .pkls\n",
    "denoised_pkl_dataset = \"D:/VIP Cup/output_datasets/denoised_vol_data\""
   ]
  },
  {
   "cell_type": "markdown",
   "metadata": {},
   "source": [
    "Constants"
   ]
  },
  {
   "cell_type": "code",
   "execution_count": 3,
   "metadata": {},
   "outputs": [],
   "source": [
    "tiff_directories = defaultdict(int)\n",
    "denoised_tiff_count = 0\n",
    "original_tiff_count = 0\n",
    "SIGMA = 0.085\n",
    "oct_height = 300\n",
    "oct_width = 300"
   ]
  },
  {
   "cell_type": "markdown",
   "metadata": {},
   "source": [
    "Functions to check whether a tiff file/directory or not"
   ]
  },
  {
   "cell_type": "code",
   "execution_count": 4,
   "metadata": {},
   "outputs": [],
   "source": [
    "def is_tiff_dir(curr_path):\n",
    "    '''function to check if the current directory having any tiff files'''\n",
    "    num_tiff = len(glob.glob(os.path.join(curr_path, '*.tiff')))\n",
    "    return num_tiff\n",
    "\n",
    "def is_tiff(curr_path):\n",
    "    '''function to check if the current file is a tiff file or not'''\n",
    "    if os.path.isfile(curr_path) and (\".tiff\" in curr_path):\n",
    "        return True\n",
    "    else:\n",
    "        return False"
   ]
  },
  {
   "cell_type": "markdown",
   "metadata": {},
   "source": [
    "Searching tiff directories"
   ]
  },
  {
   "cell_type": "code",
   "execution_count": 5,
   "metadata": {},
   "outputs": [
    {
     "name": "stdout",
     "output_type": "stream",
     "text": [
      "Denoised cases: 0\n",
      "Original tiff images: 0\n"
     ]
    }
   ],
   "source": [
    "tiff_directories = defaultdict(int)\n",
    "denoised_tiff_count = 0\n",
    "original_tiff_count = 0\n",
    "SIGMA = 0.083\n",
    "\n",
    "dataset = glob.iglob(os.path.join(icip_data, '**'), recursive=True)\n",
    "\n",
    "for i,file in enumerate(dataset):\n",
    "    if is_tiff_dir(file):\n",
    "\n",
    "        current_tiff_count = is_tiff_dir(file)\n",
    "        tiff_directories[file] = current_tiff_count\n",
    "        print(f\"{len(tiff_directories)}th case {file} ......\")\n",
    "        original_tiff_count += current_tiff_count\n",
    "\n",
    "\n",
    "\n",
    "print(f\"Denoised cases: {len(tiff_directories)}\")\n",
    "#print(f\"Denoised tiff images: {denoised_tiff_count}\")\n",
    "print(f\"Original tiff images: {original_tiff_count}\")\n"
   ]
  },
  {
   "cell_type": "markdown",
   "metadata": {},
   "source": [
    "Denoising Function"
   ]
  },
  {
   "cell_type": "code",
   "execution_count": 6,
   "metadata": {},
   "outputs": [],
   "source": [
    "def bm3d_denoise(noisy_image, npsd_sigma = SIGMA):\n",
    "\n",
    "    noisy_oct = img_as_float(io.imread(noisy_image, as_gray=True))\n",
    "    sigma = npsd_sigma\n",
    "    bm3d_denoised = bm3d.bm3d(noisy_oct, sigma_psd=sigma, stage_arg=bm3d.BM3DStages.ALL_STAGES)\n",
    "    return bm3d_denoised"
   ]
  },
  {
   "cell_type": "markdown",
   "metadata": {},
   "source": [
    "Saving Denoised Image as a .pkl file"
   ]
  },
  {
   "cell_type": "code",
   "execution_count": 7,
   "metadata": {},
   "outputs": [],
   "source": [
    "def save_denoised_image_as_pkl(denoised_array, output_path):\n",
    "    \n",
    "    with open(output_path, 'wb') as file:\n",
    "        pickle.dump(denoised_array, file)"
   ]
  },
  {
   "cell_type": "markdown",
   "metadata": {},
   "source": [
    "Output path generating function"
   ]
  },
  {
   "cell_type": "code",
   "execution_count": 8,
   "metadata": {},
   "outputs": [],
   "source": [
    "def out_path(in_path, output_dir):\n",
    "    '''generate output path'''\n",
    "    base_name = os.path.basename(in_path)\n",
    "    class_name = os.path.basename(os.path.dirname(in_path))\n",
    "\n",
    "    class_dir = os.path.join(output_dir,class_name)\n",
    "    os.makedirs(class_dir, exist_ok=True)    \n",
    "\n",
    "    out_path = class_dir + \"/\" + base_name + \".pkl\"\n",
    "    return out_path"
   ]
  },
  {
   "cell_type": "markdown",
   "metadata": {},
   "source": [
    "Open a pickle file"
   ]
  },
  {
   "cell_type": "code",
   "execution_count": 9,
   "metadata": {},
   "outputs": [],
   "source": [
    "def open_pickle(path_to_pkl):\n",
    "\n",
    "    with open(path_to_pkl, 'rb') as file:\n",
    "        loaded_vol_oct = pickle.load(file)\n",
    "\n",
    "    return loaded_vol_oct"
   ]
  },
  {
   "cell_type": "markdown",
   "metadata": {},
   "source": [
    "Denoising and Volumetric image conversion loop"
   ]
  },
  {
   "cell_type": "code",
   "execution_count": 99,
   "metadata": {},
   "outputs": [
    {
     "name": "stdout",
     "output_type": "stream",
     "text": [
      "D:/VIP Cup/Dataset/ICIP training data\\0\\RawDataQA (1): 52\n",
      "D:/VIP Cup/Dataset/ICIP training data\\0\\RawDataQA (10): 273\n",
      "D:/VIP Cup/Dataset/ICIP training data\\0\\RawDataQA (11): 300\n",
      "D:/VIP Cup/Dataset/ICIP training data\\0\\RawDataQA (12): 258\n",
      "D:/VIP Cup/Dataset/ICIP training data\\0\\RawDataQA (13): 146\n",
      "D:/VIP Cup/Dataset/ICIP training data\\0\\RawDataQA (14): 220\n",
      "D:/VIP Cup/Dataset/ICIP training data\\0\\RawDataQA (15): 87\n",
      "D:/VIP Cup/Dataset/ICIP training data\\0\\RawDataQA (16): 52\n",
      "D:/VIP Cup/Dataset/ICIP training data\\0\\RawDataQA (17): 176\n",
      "D:/VIP Cup/Dataset/ICIP training data\\0\\RawDataQA (18): 300\n",
      "D:/VIP Cup/Dataset/ICIP training data\\0\\RawDataQA (19): 84\n",
      "D:/VIP Cup/Dataset/ICIP training data\\0\\RawDataQA (2): 201\n",
      "D:/VIP Cup/Dataset/ICIP training data\\0\\RawDataQA (20): 153\n",
      "D:/VIP Cup/Dataset/ICIP training data\\0\\RawDataQA (21): 153\n",
      "D:/VIP Cup/Dataset/ICIP training data\\0\\RawDataQA (22): 283\n",
      "D:/VIP Cup/Dataset/ICIP training data\\0\\RawDataQA (23): 283\n",
      "D:/VIP Cup/Dataset/ICIP training data\\0\\RawDataQA (24): 250\n",
      "D:/VIP Cup/Dataset/ICIP training data\\0\\RawDataQA (25): 292\n",
      "D:/VIP Cup/Dataset/ICIP training data\\0\\RawDataQA (26): 230\n",
      "D:/VIP Cup/Dataset/ICIP training data\\0\\RawDataQA (27): 97\n",
      "D:/VIP Cup/Dataset/ICIP training data\\0\\RawDataQA (28): 110\n",
      "D:/VIP Cup/Dataset/ICIP training data\\0\\RawDataQA (29): 266\n",
      "D:/VIP Cup/Dataset/ICIP training data\\0\\RawDataQA (3): 187\n",
      "D:/VIP Cup/Dataset/ICIP training data\\0\\RawDataQA (30): 196\n",
      "D:/VIP Cup/Dataset/ICIP training data\\0\\RawDataQA (31): 300\n",
      "D:/VIP Cup/Dataset/ICIP training data\\0\\RawDataQA (32): 134\n",
      "D:/VIP Cup/Dataset/ICIP training data\\0\\RawDataQA (33): 203\n",
      "D:/VIP Cup/Dataset/ICIP training data\\0\\RawDataQA (34): 185\n",
      "D:/VIP Cup/Dataset/ICIP training data\\0\\RawDataQA (35): 276\n",
      "D:/VIP Cup/Dataset/ICIP training data\\0\\RawDataQA (36): 282\n",
      "D:/VIP Cup/Dataset/ICIP training data\\0\\RawDataQA (37): 299\n",
      "D:/VIP Cup/Dataset/ICIP training data\\0\\RawDataQA (38): 273\n",
      "D:/VIP Cup/Dataset/ICIP training data\\0\\RawDataQA (39): 168\n",
      "D:/VIP Cup/Dataset/ICIP training data\\0\\RawDataQA (4): 34\n",
      "D:/VIP Cup/Dataset/ICIP training data\\0\\RawDataQA (40): 170\n",
      "D:/VIP Cup/Dataset/ICIP training data\\0\\RawDataQA (41): 174\n",
      "D:/VIP Cup/Dataset/ICIP training data\\0\\RawDataQA (42): 132\n",
      "D:/VIP Cup/Dataset/ICIP training data\\0\\RawDataQA (5): 129\n",
      "D:/VIP Cup/Dataset/ICIP training data\\0\\RawDataQA (6): 250\n",
      "D:/VIP Cup/Dataset/ICIP training data\\0\\RawDataQA (7): 234\n",
      "D:/VIP Cup/Dataset/ICIP training data\\0\\RawDataQA (8): 259\n",
      "D:/VIP Cup/Dataset/ICIP training data\\0\\RawDataQA (9): 83\n",
      "D:/VIP Cup/Dataset/ICIP training data\\1\\RawDataQA-1 (1): 186\n",
      "D:/VIP Cup/Dataset/ICIP training data\\1\\RawDataQA-1 (10): 76\n",
      "D:/VIP Cup/Dataset/ICIP training data\\1\\RawDataQA-1 (11): 45\n",
      "D:/VIP Cup/Dataset/ICIP training data\\1\\RawDataQA-1 (12): 299\n",
      "D:/VIP Cup/Dataset/ICIP training data\\1\\RawDataQA-1 (13): 293\n",
      "D:/VIP Cup/Dataset/ICIP training data\\1\\RawDataQA-1 (14): 146\n",
      "D:/VIP Cup/Dataset/ICIP training data\\1\\RawDataQA-1 (15): 168\n",
      "D:/VIP Cup/Dataset/ICIP training data\\1\\RawDataQA-1 (16): 55\n",
      "D:/VIP Cup/Dataset/ICIP training data\\1\\RawDataQA-1 (17): 95\n",
      "D:/VIP Cup/Dataset/ICIP training data\\1\\RawDataQA-1 (18): 289\n",
      "D:/VIP Cup/Dataset/ICIP training data\\1\\RawDataQA-1 (19): 92\n",
      "D:/VIP Cup/Dataset/ICIP training data\\1\\RawDataQA-1 (2): 291\n",
      "D:/VIP Cup/Dataset/ICIP training data\\1\\RawDataQA-1 (20): 145\n",
      "D:/VIP Cup/Dataset/ICIP training data\\1\\RawDataQA-1 (21): 125\n",
      "D:/VIP Cup/Dataset/ICIP training data\\1\\RawDataQA-1 (22): 119\n",
      "D:/VIP Cup/Dataset/ICIP training data\\1\\RawDataQA-1 (23): 156\n",
      "D:/VIP Cup/Dataset/ICIP training data\\1\\RawDataQA-1 (24): 150\n",
      "D:/VIP Cup/Dataset/ICIP training data\\1\\RawDataQA-1 (25): 170\n",
      "D:/VIP Cup/Dataset/ICIP training data\\1\\RawDataQA-1 (26): 294\n",
      "D:/VIP Cup/Dataset/ICIP training data\\1\\RawDataQA-1 (27): 158\n",
      "D:/VIP Cup/Dataset/ICIP training data\\1\\RawDataQA-1 (28): 298\n",
      "D:/VIP Cup/Dataset/ICIP training data\\1\\RawDataQA-1 (29): 221\n",
      "D:/VIP Cup/Dataset/ICIP training data\\1\\RawDataQA-1 (3): 77\n",
      "D:/VIP Cup/Dataset/ICIP training data\\1\\RawDataQA-1 (30): 284\n",
      "D:/VIP Cup/Dataset/ICIP training data\\1\\RawDataQA-1 (4): 226\n",
      "D:/VIP Cup/Dataset/ICIP training data\\1\\RawDataQA-1 (5): 46\n",
      "D:/VIP Cup/Dataset/ICIP training data\\1\\RawDataQA-1 (6): 179\n",
      "D:/VIP Cup/Dataset/ICIP training data\\1\\RawDataQA-1 (7): 158\n",
      "D:/VIP Cup/Dataset/ICIP training data\\1\\RawDataQA-1 (8): 239\n",
      "D:/VIP Cup/Dataset/ICIP training data\\1\\RawDataQA-1 (9): 160\n",
      "D:/VIP Cup/Dataset/ICIP training data\\2\\RawDataQA-2 (1): 52\n",
      "D:/VIP Cup/Dataset/ICIP training data\\2\\RawDataQA-2 (10): 204\n",
      "D:/VIP Cup/Dataset/ICIP training data\\2\\RawDataQA-2 (11): 238\n",
      "D:/VIP Cup/Dataset/ICIP training data\\2\\RawDataQA-2 (12): 35\n",
      "D:/VIP Cup/Dataset/ICIP training data\\2\\RawDataQA-2 (13): 221\n",
      "D:/VIP Cup/Dataset/ICIP training data\\2\\RawDataQA-2 (14): 99\n",
      "D:/VIP Cup/Dataset/ICIP training data\\2\\RawDataQA-2 (15): 130\n",
      "D:/VIP Cup/Dataset/ICIP training data\\2\\RawDataQA-2 (16): 105\n",
      "D:/VIP Cup/Dataset/ICIP training data\\2\\RawDataQA-2 (17): 57\n",
      "D:/VIP Cup/Dataset/ICIP training data\\2\\RawDataQA-2 (18): 90\n",
      "D:/VIP Cup/Dataset/ICIP training data\\2\\RawDataQA-2 (19): 125\n",
      "D:/VIP Cup/Dataset/ICIP training data\\2\\RawDataQA-2 (2): 141\n",
      "D:/VIP Cup/Dataset/ICIP training data\\2\\RawDataQA-2 (20): 300\n",
      "D:/VIP Cup/Dataset/ICIP training data\\2\\RawDataQA-2 (21): 298\n",
      "D:/VIP Cup/Dataset/ICIP training data\\2\\RawDataQA-2 (22): 241\n",
      "D:/VIP Cup/Dataset/ICIP training data\\2\\RawDataQA-2 (23): 63\n",
      "D:/VIP Cup/Dataset/ICIP training data\\2\\RawDataQA-2 (24): 122\n",
      "D:/VIP Cup/Dataset/ICIP training data\\2\\RawDataQA-2 (25): 50\n",
      "D:/VIP Cup/Dataset/ICIP training data\\2\\RawDataQA-2 (26): 181\n",
      "D:/VIP Cup/Dataset/ICIP training data\\2\\RawDataQA-2 (27): 253\n",
      "D:/VIP Cup/Dataset/ICIP training data\\2\\RawDataQA-2 (28): 256\n",
      "D:/VIP Cup/Dataset/ICIP training data\\2\\RawDataQA-2 (3): 276\n",
      "D:/VIP Cup/Dataset/ICIP training data\\2\\RawDataQA-2 (4): 114\n",
      "D:/VIP Cup/Dataset/ICIP training data\\2\\RawDataQA-2 (5): 83\n",
      "D:/VIP Cup/Dataset/ICIP training data\\2\\RawDataQA-2 (6): 211\n",
      "D:/VIP Cup/Dataset/ICIP training data\\2\\RawDataQA-2 (7): 288\n",
      "D:/VIP Cup/Dataset/ICIP training data\\2\\RawDataQA-2 (8): 193\n",
      "D:/VIP Cup/Dataset/ICIP training data\\2\\RawDataQA-2 (9): 138\n"
     ]
    }
   ],
   "source": [
    "for key, value in tiff_directories.items():\n",
    "\n",
    "    img_dir = key\n",
    "    num_2d_layers = value\n",
    "    print(f'{key}: {value}')\n",
    "\n",
    "    fns = list([str(oct_image) for oct_image in glob.glob(os.path.join(img_dir,'*.tiff*'))])\n",
    "\n",
    "    #sorting 2d arrays \n",
    "\n",
    "    case_no = lambda x: int(x.split('(')[-1].split(')')[0])\n",
    "    oct_images = sorted(fns, key = lambda y: case_no(y))\n",
    "\n",
    "    if num_2d_layers == len(oct_images):\n",
    "\n",
    "        vol_image = np.zeros(shape=(oct_height, oct_width,num_2d_layers))\n",
    "\n",
    "        for c in range(num_2d_layers):\n",
    "            \n",
    "            denoised_image = bm3d_denoise(oct_images[c], SIGMA)\n",
    "\n",
    "            if  denoised_image.shape == (oct_height,oct_width):\n",
    "\n",
    "                #print(oct_image)\n",
    "                #save_out =  os.path.join(\"D:/VIP Cup/Results/bm3d_one_dir/\", os.path.basename(oct_images[c]))\n",
    "                #save_denoised_image(denoised_image, save_out)\n",
    "\n",
    "                #denoised_image = np.asarray(denoised_image).astype(np.float64).squeeze()\n",
    "\n",
    "                if denoised_image.ndim != 2:\n",
    "                    raise Exception(f'Only 2D data supported. File {denoised_image} has dimension {denoised_image.ndim}.')\n",
    "                else:\n",
    "                    vol_image[:,:,c] = denoised_image\n",
    "            else:\n",
    "                raise Exception(f\"Dimension error: {oct_images[c]}.\")\n",
    "    else:\n",
    "        raise Exception(f\"No of channels available is different: {key}\")\n",
    "\n",
    "    out_name = out_path(img_dir, denoised_pkl_dataset)\n",
    "    save_denoised_image_as_pkl(vol_image, out_name)"
   ]
  }
 ],
 "metadata": {
  "kernelspec": {
   "display_name": "Python 3",
   "language": "python",
   "name": "python3"
  },
  "language_info": {
   "codemirror_mode": {
    "name": "ipython",
    "version": 3
   },
   "file_extension": ".py",
   "mimetype": "text/x-python",
   "name": "python",
   "nbconvert_exporter": "python",
   "pygments_lexer": "ipython3",
   "version": "3.11.3"
  }
 },
 "nbformat": 4,
 "nbformat_minor": 2
}
