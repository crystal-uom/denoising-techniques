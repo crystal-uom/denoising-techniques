{
 "cells": [
  {
   "cell_type": "code",
   "execution_count": 1,
   "metadata": {},
   "outputs": [],
   "source": [
    "import numpy as np\n",
    "import bm3d\n",
    "from pathlib import Path\n",
    "import pickle\n",
    "from skimage import io, img_as_float\n",
    "import nibabel as nib\n",
    "import os\n",
    "import glob\n",
    "from collections import defaultdict"
   ]
  },
  {
   "cell_type": "markdown",
   "metadata": {},
   "source": [
    "File Paths"
   ]
  },
  {
   "cell_type": "code",
   "execution_count": 2,
   "metadata": {},
   "outputs": [],
   "source": [
    "icip_data = \"D:/VIP Cup/Dataset/ICIP training data/\"\n",
    "denoised_pkl_dataset = \"D:/VIP Cup/Output dataset/pkl_data\"\n",
    "final_denoised_dataset = \"D:/VIP Cup/Output dataset/final_pipeline_denoised_tiff_dataset\"\n"
   ]
  },
  {
   "cell_type": "markdown",
   "metadata": {},
   "source": [
    "Constants"
   ]
  },
  {
   "cell_type": "code",
   "execution_count": 51,
   "metadata": {},
   "outputs": [],
   "source": [
    "tiff_directories = defaultdict(int)\n",
    "denoised_tiff_count = 0\n",
    "original_tiff_count = 0\n",
    "SIGMA = 0.085\n",
    "oct_height = 300\n",
    "oct_width = 300"
   ]
  },
  {
   "cell_type": "markdown",
   "metadata": {},
   "source": [
    "Functions to check whether a tiff file/directory or not"
   ]
  },
  {
   "cell_type": "code",
   "execution_count": 52,
   "metadata": {},
   "outputs": [],
   "source": [
    "def is_tiff_dir(curr_path):\n",
    "    '''function to check if the current directory having any tiff files'''\n",
    "    num_tiff = len(glob.glob(os.path.join(curr_path, '*.tiff')))\n",
    "    return num_tiff\n",
    "\n",
    "def is_tiff(curr_path):\n",
    "    '''function to check if the current file is a tiff file or not'''\n",
    "    if os.path.isfile(curr_path) and (\".tiff\" in curr_path):\n",
    "        return True\n",
    "    else:\n",
    "        return False"
   ]
  },
  {
   "cell_type": "markdown",
   "metadata": {},
   "source": [
    "Searching tiff directories"
   ]
  },
  {
   "cell_type": "code",
   "execution_count": 53,
   "metadata": {},
   "outputs": [
    {
     "name": "stdout",
     "output_type": "stream",
     "text": [
      "1th case D:/VIP Cup/Dataset/ICIP training data\\0\\RawDataQA (1) ......\n",
      "2th case D:/VIP Cup/Dataset/ICIP training data\\0\\RawDataQA (10) ......\n",
      "3th case D:/VIP Cup/Dataset/ICIP training data\\0\\RawDataQA (11) ......\n",
      "4th case D:/VIP Cup/Dataset/ICIP training data\\0\\RawDataQA (12) ......\n",
      "5th case D:/VIP Cup/Dataset/ICIP training data\\0\\RawDataQA (13) ......\n",
      "6th case D:/VIP Cup/Dataset/ICIP training data\\0\\RawDataQA (14) ......\n",
      "7th case D:/VIP Cup/Dataset/ICIP training data\\0\\RawDataQA (15) ......\n",
      "8th case D:/VIP Cup/Dataset/ICIP training data\\0\\RawDataQA (16) ......\n",
      "9th case D:/VIP Cup/Dataset/ICIP training data\\0\\RawDataQA (17) ......\n",
      "10th case D:/VIP Cup/Dataset/ICIP training data\\0\\RawDataQA (18) ......\n",
      "11th case D:/VIP Cup/Dataset/ICIP training data\\0\\RawDataQA (19) ......\n",
      "12th case D:/VIP Cup/Dataset/ICIP training data\\0\\RawDataQA (2) ......\n",
      "13th case D:/VIP Cup/Dataset/ICIP training data\\0\\RawDataQA (20) ......\n",
      "14th case D:/VIP Cup/Dataset/ICIP training data\\0\\RawDataQA (21) ......\n",
      "15th case D:/VIP Cup/Dataset/ICIP training data\\0\\RawDataQA (22) ......\n",
      "16th case D:/VIP Cup/Dataset/ICIP training data\\0\\RawDataQA (23) ......\n",
      "17th case D:/VIP Cup/Dataset/ICIP training data\\0\\RawDataQA (24) ......\n",
      "18th case D:/VIP Cup/Dataset/ICIP training data\\0\\RawDataQA (25) ......\n",
      "19th case D:/VIP Cup/Dataset/ICIP training data\\0\\RawDataQA (26) ......\n",
      "20th case D:/VIP Cup/Dataset/ICIP training data\\0\\RawDataQA (27) ......\n",
      "21th case D:/VIP Cup/Dataset/ICIP training data\\0\\RawDataQA (28) ......\n",
      "22th case D:/VIP Cup/Dataset/ICIP training data\\0\\RawDataQA (29) ......\n",
      "23th case D:/VIP Cup/Dataset/ICIP training data\\0\\RawDataQA (3) ......\n",
      "24th case D:/VIP Cup/Dataset/ICIP training data\\0\\RawDataQA (30) ......\n",
      "25th case D:/VIP Cup/Dataset/ICIP training data\\0\\RawDataQA (31) ......\n",
      "26th case D:/VIP Cup/Dataset/ICIP training data\\0\\RawDataQA (32) ......\n",
      "27th case D:/VIP Cup/Dataset/ICIP training data\\0\\RawDataQA (33) ......\n",
      "28th case D:/VIP Cup/Dataset/ICIP training data\\0\\RawDataQA (34) ......\n",
      "29th case D:/VIP Cup/Dataset/ICIP training data\\0\\RawDataQA (35) ......\n",
      "30th case D:/VIP Cup/Dataset/ICIP training data\\0\\RawDataQA (36) ......\n",
      "31th case D:/VIP Cup/Dataset/ICIP training data\\0\\RawDataQA (37) ......\n",
      "32th case D:/VIP Cup/Dataset/ICIP training data\\0\\RawDataQA (38) ......\n",
      "33th case D:/VIP Cup/Dataset/ICIP training data\\0\\RawDataQA (39) ......\n",
      "34th case D:/VIP Cup/Dataset/ICIP training data\\0\\RawDataQA (4) ......\n",
      "35th case D:/VIP Cup/Dataset/ICIP training data\\0\\RawDataQA (40) ......\n",
      "36th case D:/VIP Cup/Dataset/ICIP training data\\0\\RawDataQA (41) ......\n",
      "37th case D:/VIP Cup/Dataset/ICIP training data\\0\\RawDataQA (42) ......\n",
      "38th case D:/VIP Cup/Dataset/ICIP training data\\0\\RawDataQA (5) ......\n",
      "39th case D:/VIP Cup/Dataset/ICIP training data\\0\\RawDataQA (6) ......\n",
      "40th case D:/VIP Cup/Dataset/ICIP training data\\0\\RawDataQA (7) ......\n",
      "41th case D:/VIP Cup/Dataset/ICIP training data\\0\\RawDataQA (8) ......\n",
      "42th case D:/VIP Cup/Dataset/ICIP training data\\0\\RawDataQA (9) ......\n",
      "43th case D:/VIP Cup/Dataset/ICIP training data\\1\\RawDataQA-1 (1) ......\n",
      "44th case D:/VIP Cup/Dataset/ICIP training data\\1\\RawDataQA-1 (10) ......\n",
      "45th case D:/VIP Cup/Dataset/ICIP training data\\1\\RawDataQA-1 (11) ......\n",
      "46th case D:/VIP Cup/Dataset/ICIP training data\\1\\RawDataQA-1 (12) ......\n",
      "47th case D:/VIP Cup/Dataset/ICIP training data\\1\\RawDataQA-1 (13) ......\n",
      "48th case D:/VIP Cup/Dataset/ICIP training data\\1\\RawDataQA-1 (14) ......\n",
      "49th case D:/VIP Cup/Dataset/ICIP training data\\1\\RawDataQA-1 (15) ......\n",
      "50th case D:/VIP Cup/Dataset/ICIP training data\\1\\RawDataQA-1 (16) ......\n",
      "51th case D:/VIP Cup/Dataset/ICIP training data\\1\\RawDataQA-1 (17) ......\n",
      "52th case D:/VIP Cup/Dataset/ICIP training data\\1\\RawDataQA-1 (18) ......\n",
      "53th case D:/VIP Cup/Dataset/ICIP training data\\1\\RawDataQA-1 (19) ......\n",
      "54th case D:/VIP Cup/Dataset/ICIP training data\\1\\RawDataQA-1 (2) ......\n",
      "55th case D:/VIP Cup/Dataset/ICIP training data\\1\\RawDataQA-1 (20) ......\n",
      "56th case D:/VIP Cup/Dataset/ICIP training data\\1\\RawDataQA-1 (21) ......\n",
      "57th case D:/VIP Cup/Dataset/ICIP training data\\1\\RawDataQA-1 (22) ......\n",
      "58th case D:/VIP Cup/Dataset/ICIP training data\\1\\RawDataQA-1 (23) ......\n",
      "59th case D:/VIP Cup/Dataset/ICIP training data\\1\\RawDataQA-1 (24) ......\n",
      "60th case D:/VIP Cup/Dataset/ICIP training data\\1\\RawDataQA-1 (25) ......\n",
      "61th case D:/VIP Cup/Dataset/ICIP training data\\1\\RawDataQA-1 (26) ......\n",
      "62th case D:/VIP Cup/Dataset/ICIP training data\\1\\RawDataQA-1 (27) ......\n",
      "63th case D:/VIP Cup/Dataset/ICIP training data\\1\\RawDataQA-1 (28) ......\n",
      "64th case D:/VIP Cup/Dataset/ICIP training data\\1\\RawDataQA-1 (29) ......\n",
      "65th case D:/VIP Cup/Dataset/ICIP training data\\1\\RawDataQA-1 (3) ......\n",
      "66th case D:/VIP Cup/Dataset/ICIP training data\\1\\RawDataQA-1 (30) ......\n",
      "67th case D:/VIP Cup/Dataset/ICIP training data\\1\\RawDataQA-1 (4) ......\n",
      "68th case D:/VIP Cup/Dataset/ICIP training data\\1\\RawDataQA-1 (5) ......\n",
      "69th case D:/VIP Cup/Dataset/ICIP training data\\1\\RawDataQA-1 (6) ......\n",
      "70th case D:/VIP Cup/Dataset/ICIP training data\\1\\RawDataQA-1 (7) ......\n",
      "71th case D:/VIP Cup/Dataset/ICIP training data\\1\\RawDataQA-1 (8) ......\n",
      "72th case D:/VIP Cup/Dataset/ICIP training data\\1\\RawDataQA-1 (9) ......\n",
      "73th case D:/VIP Cup/Dataset/ICIP training data\\2\\RawDataQA-2 (1) ......\n",
      "74th case D:/VIP Cup/Dataset/ICIP training data\\2\\RawDataQA-2 (10) ......\n",
      "75th case D:/VIP Cup/Dataset/ICIP training data\\2\\RawDataQA-2 (11) ......\n",
      "76th case D:/VIP Cup/Dataset/ICIP training data\\2\\RawDataQA-2 (12) ......\n",
      "77th case D:/VIP Cup/Dataset/ICIP training data\\2\\RawDataQA-2 (13) ......\n",
      "78th case D:/VIP Cup/Dataset/ICIP training data\\2\\RawDataQA-2 (14) ......\n",
      "79th case D:/VIP Cup/Dataset/ICIP training data\\2\\RawDataQA-2 (15) ......\n",
      "80th case D:/VIP Cup/Dataset/ICIP training data\\2\\RawDataQA-2 (16) ......\n",
      "81th case D:/VIP Cup/Dataset/ICIP training data\\2\\RawDataQA-2 (17) ......\n",
      "82th case D:/VIP Cup/Dataset/ICIP training data\\2\\RawDataQA-2 (18) ......\n",
      "83th case D:/VIP Cup/Dataset/ICIP training data\\2\\RawDataQA-2 (19) ......\n",
      "84th case D:/VIP Cup/Dataset/ICIP training data\\2\\RawDataQA-2 (2) ......\n",
      "85th case D:/VIP Cup/Dataset/ICIP training data\\2\\RawDataQA-2 (20) ......\n",
      "86th case D:/VIP Cup/Dataset/ICIP training data\\2\\RawDataQA-2 (21) ......\n",
      "87th case D:/VIP Cup/Dataset/ICIP training data\\2\\RawDataQA-2 (22) ......\n",
      "88th case D:/VIP Cup/Dataset/ICIP training data\\2\\RawDataQA-2 (23) ......\n",
      "89th case D:/VIP Cup/Dataset/ICIP training data\\2\\RawDataQA-2 (24) ......\n",
      "90th case D:/VIP Cup/Dataset/ICIP training data\\2\\RawDataQA-2 (25) ......\n",
      "91th case D:/VIP Cup/Dataset/ICIP training data\\2\\RawDataQA-2 (26) ......\n",
      "92th case D:/VIP Cup/Dataset/ICIP training data\\2\\RawDataQA-2 (27) ......\n",
      "93th case D:/VIP Cup/Dataset/ICIP training data\\2\\RawDataQA-2 (28) ......\n",
      "94th case D:/VIP Cup/Dataset/ICIP training data\\2\\RawDataQA-2 (3) ......\n",
      "95th case D:/VIP Cup/Dataset/ICIP training data\\2\\RawDataQA-2 (4) ......\n",
      "96th case D:/VIP Cup/Dataset/ICIP training data\\2\\RawDataQA-2 (5) ......\n",
      "97th case D:/VIP Cup/Dataset/ICIP training data\\2\\RawDataQA-2 (6) ......\n",
      "98th case D:/VIP Cup/Dataset/ICIP training data\\2\\RawDataQA-2 (7) ......\n",
      "99th case D:/VIP Cup/Dataset/ICIP training data\\2\\RawDataQA-2 (8) ......\n",
      "100th case D:/VIP Cup/Dataset/ICIP training data\\2\\RawDataQA-2 (9) ......\n",
      "Denoised cases: 100\n",
      "Original tiff images: 18038\n"
     ]
    }
   ],
   "source": [
    "tiff_directories = defaultdict(int)\n",
    "denoised_tiff_count = 0\n",
    "original_tiff_count = 0\n",
    "SIGMA = 0.083\n",
    "\n",
    "dataset = glob.iglob(os.path.join(icip_data, '**'), recursive=True)\n",
    "\n",
    "for i,file in enumerate(dataset):\n",
    "    if is_tiff_dir(file):\n",
    "\n",
    "        current_tiff_count = is_tiff_dir(file)\n",
    "        tiff_directories[file] = current_tiff_count\n",
    "        print(f\"{len(tiff_directories)}th case {file} ......\")\n",
    "        original_tiff_count += current_tiff_count\n",
    "\n",
    "\n",
    "\n",
    "print(f\"Denoised cases: {len(tiff_directories)}\")\n",
    "#print(f\"Denoised tiff images: {denoised_tiff_count}\")\n",
    "print(f\"Original tiff images: {original_tiff_count}\")\n"
   ]
  },
  {
   "cell_type": "markdown",
   "metadata": {},
   "source": [
    "Denoising Function"
   ]
  },
  {
   "cell_type": "code",
   "execution_count": 54,
   "metadata": {},
   "outputs": [],
   "source": [
    "import numpy as np\n",
    "from numpy.linalg import svd\n",
    "from PIL import Image\n",
    "import math\n",
    "\n",
    "def get_svd_image_from_array(A):\n",
    "    # Convert the image to a NumPy array\n",
    "\n",
    "    # Remember image size\n",
    "    n = len(A)\n",
    "\n",
    "    # Take SVD\n",
    "    U, S, V = svd(A)\n",
    "\n",
    "    threshold = 4/np.sqrt(3)\n",
    "    filter = (S > threshold)*1 \n",
    "    filtered_S = np.multiply(S, filter)\n",
    "\n",
    "    # Initialize blank image\n",
    "    final_img = np.zeros((n, n))\n",
    "    \n",
    "    for i in range(n):\n",
    "        matrix = S[i]*np.outer(U[:,i],V[i])\n",
    "        final_img += matrix\n",
    "    \n",
    "    return final_img"
   ]
  },
  {
   "cell_type": "code",
   "execution_count": 55,
   "metadata": {},
   "outputs": [],
   "source": [
    "def open_noisy_image_as_array(image_path):\n",
    "    image_array = img_as_float(io.imread(image_path, as_gray=True))\n",
    "    return np.array(image_array)"
   ]
  },
  {
   "cell_type": "code",
   "execution_count": 56,
   "metadata": {},
   "outputs": [],
   "source": [
    "def bm3d_denoise(noisy_image, npsd_sigma = SIGMA):\n",
    "\n",
    "    noisy_oct = img_as_float(io.imread(noisy_image, as_gray=True))\n",
    "    sigma = npsd_sigma\n",
    "    bm3d_denoised = bm3d.bm3d(noisy_oct, sigma_psd=sigma, stage_arg=bm3d.BM3DStages.ALL_STAGES)\n",
    "    return bm3d_denoised"
   ]
  },
  {
   "cell_type": "code",
   "execution_count": 57,
   "metadata": {},
   "outputs": [],
   "source": [
    "def bm3d_denoise_from_image_array(noisy_image_array, npsd_sigma = SIGMA):\n",
    "\n",
    "    sigma = npsd_sigma\n",
    "    bm3d_denoised = bm3d.bm3d(noisy_image_array, sigma_psd=sigma, stage_arg=bm3d.BM3DStages.ALL_STAGES)\n",
    "    return bm3d_denoised"
   ]
  },
  {
   "cell_type": "markdown",
   "metadata": {},
   "source": [
    "Saving Denoised Image as a .tiff file"
   ]
  },
  {
   "cell_type": "code",
   "execution_count": 58,
   "metadata": {},
   "outputs": [],
   "source": [
    "def save_denoised_image_as_tiff(denoised_array, output_path):\n",
    "    \n",
    "    plt.imsave(output_path, denoised_array, cmap='gray')"
   ]
  },
  {
   "cell_type": "markdown",
   "metadata": {},
   "source": [
    "Output path generating function"
   ]
  },
  {
   "cell_type": "code",
   "execution_count": 59,
   "metadata": {},
   "outputs": [],
   "source": [
    "def generate_out_path(file, output_dir, sigma):\n",
    "    '''generate output path'''\n",
    "    file_name = os.path.basename(file).split(\".\")[0]\n",
    "    case_name = os.path.basename(os.path.dirname(file))\n",
    "    class_name = os.path.basename(os.path.dirname(os.path.dirname(file)))\n",
    "\n",
    "    case_dir = os.path.join(output_dir,class_name,case_name)\n",
    "    os.makedirs(case_dir, exist_ok=True)\n",
    "\n",
    "    out_path = os.path.join(case_dir, file_name + \"_denoised_.tiff\")\n",
    "    return out_path"
   ]
  },
  {
   "cell_type": "markdown",
   "metadata": {},
   "source": [
    "Denoising Function"
   ]
  },
  {
   "cell_type": "code",
   "execution_count": 60,
   "metadata": {},
   "outputs": [],
   "source": [
    "#denoising function\n",
    "def denoise(image_path, output_path, sigma=SIGMA):\n",
    "    '''function to denoise the image'''\n",
    "    bm3d_denoised = bm3d_denoise(image_path, sigma)\n",
    "    svd_denoised = get_svd_image_from_array(bm3d_denoised)\n",
    "    save_denoised_image_as_tiff(svd_denoised, output_path)"
   ]
  },
  {
   "cell_type": "code",
   "execution_count": 61,
   "metadata": {},
   "outputs": [
    {
     "data": {
      "text/plain": [
       "defaultdict(int,\n",
       "            {'D:/VIP Cup/Dataset/ICIP training data\\\\0\\\\RawDataQA (1)': 52,\n",
       "             'D:/VIP Cup/Dataset/ICIP training data\\\\0\\\\RawDataQA (10)': 273,\n",
       "             'D:/VIP Cup/Dataset/ICIP training data\\\\0\\\\RawDataQA (11)': 300,\n",
       "             'D:/VIP Cup/Dataset/ICIP training data\\\\0\\\\RawDataQA (12)': 258,\n",
       "             'D:/VIP Cup/Dataset/ICIP training data\\\\0\\\\RawDataQA (13)': 146,\n",
       "             'D:/VIP Cup/Dataset/ICIP training data\\\\0\\\\RawDataQA (14)': 220,\n",
       "             'D:/VIP Cup/Dataset/ICIP training data\\\\0\\\\RawDataQA (15)': 87,\n",
       "             'D:/VIP Cup/Dataset/ICIP training data\\\\0\\\\RawDataQA (16)': 52,\n",
       "             'D:/VIP Cup/Dataset/ICIP training data\\\\0\\\\RawDataQA (17)': 176,\n",
       "             'D:/VIP Cup/Dataset/ICIP training data\\\\0\\\\RawDataQA (18)': 300,\n",
       "             'D:/VIP Cup/Dataset/ICIP training data\\\\0\\\\RawDataQA (19)': 84,\n",
       "             'D:/VIP Cup/Dataset/ICIP training data\\\\0\\\\RawDataQA (2)': 201,\n",
       "             'D:/VIP Cup/Dataset/ICIP training data\\\\0\\\\RawDataQA (20)': 153,\n",
       "             'D:/VIP Cup/Dataset/ICIP training data\\\\0\\\\RawDataQA (21)': 153,\n",
       "             'D:/VIP Cup/Dataset/ICIP training data\\\\0\\\\RawDataQA (22)': 283,\n",
       "             'D:/VIP Cup/Dataset/ICIP training data\\\\0\\\\RawDataQA (23)': 283,\n",
       "             'D:/VIP Cup/Dataset/ICIP training data\\\\0\\\\RawDataQA (24)': 250,\n",
       "             'D:/VIP Cup/Dataset/ICIP training data\\\\0\\\\RawDataQA (25)': 292,\n",
       "             'D:/VIP Cup/Dataset/ICIP training data\\\\0\\\\RawDataQA (26)': 230,\n",
       "             'D:/VIP Cup/Dataset/ICIP training data\\\\0\\\\RawDataQA (27)': 97,\n",
       "             'D:/VIP Cup/Dataset/ICIP training data\\\\0\\\\RawDataQA (28)': 110,\n",
       "             'D:/VIP Cup/Dataset/ICIP training data\\\\0\\\\RawDataQA (29)': 266,\n",
       "             'D:/VIP Cup/Dataset/ICIP training data\\\\0\\\\RawDataQA (3)': 187,\n",
       "             'D:/VIP Cup/Dataset/ICIP training data\\\\0\\\\RawDataQA (30)': 196,\n",
       "             'D:/VIP Cup/Dataset/ICIP training data\\\\0\\\\RawDataQA (31)': 300,\n",
       "             'D:/VIP Cup/Dataset/ICIP training data\\\\0\\\\RawDataQA (32)': 134,\n",
       "             'D:/VIP Cup/Dataset/ICIP training data\\\\0\\\\RawDataQA (33)': 203,\n",
       "             'D:/VIP Cup/Dataset/ICIP training data\\\\0\\\\RawDataQA (34)': 185,\n",
       "             'D:/VIP Cup/Dataset/ICIP training data\\\\0\\\\RawDataQA (35)': 276,\n",
       "             'D:/VIP Cup/Dataset/ICIP training data\\\\0\\\\RawDataQA (36)': 282,\n",
       "             'D:/VIP Cup/Dataset/ICIP training data\\\\0\\\\RawDataQA (37)': 299,\n",
       "             'D:/VIP Cup/Dataset/ICIP training data\\\\0\\\\RawDataQA (38)': 273,\n",
       "             'D:/VIP Cup/Dataset/ICIP training data\\\\0\\\\RawDataQA (39)': 168,\n",
       "             'D:/VIP Cup/Dataset/ICIP training data\\\\0\\\\RawDataQA (4)': 34,\n",
       "             'D:/VIP Cup/Dataset/ICIP training data\\\\0\\\\RawDataQA (40)': 170,\n",
       "             'D:/VIP Cup/Dataset/ICIP training data\\\\0\\\\RawDataQA (41)': 174,\n",
       "             'D:/VIP Cup/Dataset/ICIP training data\\\\0\\\\RawDataQA (42)': 132,\n",
       "             'D:/VIP Cup/Dataset/ICIP training data\\\\0\\\\RawDataQA (5)': 129,\n",
       "             'D:/VIP Cup/Dataset/ICIP training data\\\\0\\\\RawDataQA (6)': 250,\n",
       "             'D:/VIP Cup/Dataset/ICIP training data\\\\0\\\\RawDataQA (7)': 234,\n",
       "             'D:/VIP Cup/Dataset/ICIP training data\\\\0\\\\RawDataQA (8)': 259,\n",
       "             'D:/VIP Cup/Dataset/ICIP training data\\\\0\\\\RawDataQA (9)': 83,\n",
       "             'D:/VIP Cup/Dataset/ICIP training data\\\\1\\\\RawDataQA-1 (1)': 186,\n",
       "             'D:/VIP Cup/Dataset/ICIP training data\\\\1\\\\RawDataQA-1 (10)': 76,\n",
       "             'D:/VIP Cup/Dataset/ICIP training data\\\\1\\\\RawDataQA-1 (11)': 45,\n",
       "             'D:/VIP Cup/Dataset/ICIP training data\\\\1\\\\RawDataQA-1 (12)': 299,\n",
       "             'D:/VIP Cup/Dataset/ICIP training data\\\\1\\\\RawDataQA-1 (13)': 293,\n",
       "             'D:/VIP Cup/Dataset/ICIP training data\\\\1\\\\RawDataQA-1 (14)': 146,\n",
       "             'D:/VIP Cup/Dataset/ICIP training data\\\\1\\\\RawDataQA-1 (15)': 168,\n",
       "             'D:/VIP Cup/Dataset/ICIP training data\\\\1\\\\RawDataQA-1 (16)': 55,\n",
       "             'D:/VIP Cup/Dataset/ICIP training data\\\\1\\\\RawDataQA-1 (17)': 95,\n",
       "             'D:/VIP Cup/Dataset/ICIP training data\\\\1\\\\RawDataQA-1 (18)': 289,\n",
       "             'D:/VIP Cup/Dataset/ICIP training data\\\\1\\\\RawDataQA-1 (19)': 92,\n",
       "             'D:/VIP Cup/Dataset/ICIP training data\\\\1\\\\RawDataQA-1 (2)': 291,\n",
       "             'D:/VIP Cup/Dataset/ICIP training data\\\\1\\\\RawDataQA-1 (20)': 145,\n",
       "             'D:/VIP Cup/Dataset/ICIP training data\\\\1\\\\RawDataQA-1 (21)': 125,\n",
       "             'D:/VIP Cup/Dataset/ICIP training data\\\\1\\\\RawDataQA-1 (22)': 119,\n",
       "             'D:/VIP Cup/Dataset/ICIP training data\\\\1\\\\RawDataQA-1 (23)': 156,\n",
       "             'D:/VIP Cup/Dataset/ICIP training data\\\\1\\\\RawDataQA-1 (24)': 150,\n",
       "             'D:/VIP Cup/Dataset/ICIP training data\\\\1\\\\RawDataQA-1 (25)': 170,\n",
       "             'D:/VIP Cup/Dataset/ICIP training data\\\\1\\\\RawDataQA-1 (26)': 294,\n",
       "             'D:/VIP Cup/Dataset/ICIP training data\\\\1\\\\RawDataQA-1 (27)': 158,\n",
       "             'D:/VIP Cup/Dataset/ICIP training data\\\\1\\\\RawDataQA-1 (28)': 298,\n",
       "             'D:/VIP Cup/Dataset/ICIP training data\\\\1\\\\RawDataQA-1 (29)': 221,\n",
       "             'D:/VIP Cup/Dataset/ICIP training data\\\\1\\\\RawDataQA-1 (3)': 77,\n",
       "             'D:/VIP Cup/Dataset/ICIP training data\\\\1\\\\RawDataQA-1 (30)': 284,\n",
       "             'D:/VIP Cup/Dataset/ICIP training data\\\\1\\\\RawDataQA-1 (4)': 226,\n",
       "             'D:/VIP Cup/Dataset/ICIP training data\\\\1\\\\RawDataQA-1 (5)': 46,\n",
       "             'D:/VIP Cup/Dataset/ICIP training data\\\\1\\\\RawDataQA-1 (6)': 179,\n",
       "             'D:/VIP Cup/Dataset/ICIP training data\\\\1\\\\RawDataQA-1 (7)': 158,\n",
       "             'D:/VIP Cup/Dataset/ICIP training data\\\\1\\\\RawDataQA-1 (8)': 239,\n",
       "             'D:/VIP Cup/Dataset/ICIP training data\\\\1\\\\RawDataQA-1 (9)': 160,\n",
       "             'D:/VIP Cup/Dataset/ICIP training data\\\\2\\\\RawDataQA-2 (1)': 52,\n",
       "             'D:/VIP Cup/Dataset/ICIP training data\\\\2\\\\RawDataQA-2 (10)': 204,\n",
       "             'D:/VIP Cup/Dataset/ICIP training data\\\\2\\\\RawDataQA-2 (11)': 238,\n",
       "             'D:/VIP Cup/Dataset/ICIP training data\\\\2\\\\RawDataQA-2 (12)': 35,\n",
       "             'D:/VIP Cup/Dataset/ICIP training data\\\\2\\\\RawDataQA-2 (13)': 221,\n",
       "             'D:/VIP Cup/Dataset/ICIP training data\\\\2\\\\RawDataQA-2 (14)': 99,\n",
       "             'D:/VIP Cup/Dataset/ICIP training data\\\\2\\\\RawDataQA-2 (15)': 130,\n",
       "             'D:/VIP Cup/Dataset/ICIP training data\\\\2\\\\RawDataQA-2 (16)': 105,\n",
       "             'D:/VIP Cup/Dataset/ICIP training data\\\\2\\\\RawDataQA-2 (17)': 57,\n",
       "             'D:/VIP Cup/Dataset/ICIP training data\\\\2\\\\RawDataQA-2 (18)': 90,\n",
       "             'D:/VIP Cup/Dataset/ICIP training data\\\\2\\\\RawDataQA-2 (19)': 125,\n",
       "             'D:/VIP Cup/Dataset/ICIP training data\\\\2\\\\RawDataQA-2 (2)': 141,\n",
       "             'D:/VIP Cup/Dataset/ICIP training data\\\\2\\\\RawDataQA-2 (20)': 300,\n",
       "             'D:/VIP Cup/Dataset/ICIP training data\\\\2\\\\RawDataQA-2 (21)': 298,\n",
       "             'D:/VIP Cup/Dataset/ICIP training data\\\\2\\\\RawDataQA-2 (22)': 241,\n",
       "             'D:/VIP Cup/Dataset/ICIP training data\\\\2\\\\RawDataQA-2 (23)': 63,\n",
       "             'D:/VIP Cup/Dataset/ICIP training data\\\\2\\\\RawDataQA-2 (24)': 122,\n",
       "             'D:/VIP Cup/Dataset/ICIP training data\\\\2\\\\RawDataQA-2 (25)': 50,\n",
       "             'D:/VIP Cup/Dataset/ICIP training data\\\\2\\\\RawDataQA-2 (26)': 181,\n",
       "             'D:/VIP Cup/Dataset/ICIP training data\\\\2\\\\RawDataQA-2 (27)': 253,\n",
       "             'D:/VIP Cup/Dataset/ICIP training data\\\\2\\\\RawDataQA-2 (28)': 256,\n",
       "             'D:/VIP Cup/Dataset/ICIP training data\\\\2\\\\RawDataQA-2 (3)': 276,\n",
       "             'D:/VIP Cup/Dataset/ICIP training data\\\\2\\\\RawDataQA-2 (4)': 114,\n",
       "             'D:/VIP Cup/Dataset/ICIP training data\\\\2\\\\RawDataQA-2 (5)': 83,\n",
       "             'D:/VIP Cup/Dataset/ICIP training data\\\\2\\\\RawDataQA-2 (6)': 211,\n",
       "             'D:/VIP Cup/Dataset/ICIP training data\\\\2\\\\RawDataQA-2 (7)': 288,\n",
       "             'D:/VIP Cup/Dataset/ICIP training data\\\\2\\\\RawDataQA-2 (8)': 193,\n",
       "             'D:/VIP Cup/Dataset/ICIP training data\\\\2\\\\RawDataQA-2 (9)': 138})"
      ]
     },
     "execution_count": 61,
     "metadata": {},
     "output_type": "execute_result"
    }
   ],
   "source": [
    "tiff_directories"
   ]
  },
  {
   "cell_type": "markdown",
   "metadata": {},
   "source": [
    "Denoising Pipeline"
   ]
  },
  {
   "cell_type": "code",
   "execution_count": 62,
   "metadata": {},
   "outputs": [],
   "source": [
    "# denoising pipeline for denoise the tiff images in each and every tiff directories\n",
    "def denoising_pipeline(tiff_directories, final_denoised_dataset, SIGMA):\n",
    "    '''denoising pipeline for denoise the tiff images in each and every tiff directories'''\n",
    "    count = 0\n",
    "\n",
    "    for i, tiff_dir in enumerate(tiff_directories):\n",
    "        print(f\"{i}th case {tiff_dir} ......\")\n",
    "\n",
    "        tiff_files = os.listdir(tiff_dir)\n",
    "\n",
    "        if len(tiff_files) == tiff_directories[tiff_dir]:\n",
    "            for tiff_file in tiff_files:\n",
    "                tiff_file_path = os.path.join(tiff_dir, tiff_file)\n",
    "                output_path = generate_out_path(tiff_file_path, final_denoised_dataset, SIGMA)\n",
    "                denoise(tiff_file_path, output_path, SIGMA)\n",
    "        else:\n",
    "            raise Exception(f\"Number of tiff files in the directory is not equal to the number of tiff files in the dictionary in {tiff_dir}\")\n",
    "\n",
    "        print(f\"{i}th case {tiff_dir} denoised ......\")\n",
    "        count += 1\n",
    "\n",
    "    return count\n",
    "count = 0"
   ]
  },
  {
   "cell_type": "code",
   "execution_count": 50,
   "metadata": {},
   "outputs": [
    {
     "name": "stdout",
     "output_type": "stream",
     "text": [
      "0th case D:/VIP Cup/Dataset/ICIP training data\\0\\RawDataQA (1) ......\n"
     ]
    },
    {
     "ename": "KeyboardInterrupt",
     "evalue": "",
     "output_type": "error",
     "traceback": [
      "\u001b[1;31m---------------------------------------------------------------------------\u001b[0m",
      "\u001b[1;31mKeyboardInterrupt\u001b[0m                         Traceback (most recent call last)",
      "Cell \u001b[1;32mIn[50], line 2\u001b[0m\n\u001b[0;32m      1\u001b[0m \u001b[38;5;66;03m# denoising pipeline for denoise the tiff images in each and every tiff directories\u001b[39;00m\n\u001b[1;32m----> 2\u001b[0m denoised_tiff_count \u001b[38;5;241m=\u001b[39m \u001b[43mdenoising_pipeline\u001b[49m\u001b[43m(\u001b[49m\u001b[43mtiff_directories\u001b[49m\u001b[43m,\u001b[49m\u001b[43m \u001b[49m\u001b[43mfinal_denoised_dataset\u001b[49m\u001b[43m,\u001b[49m\u001b[43m \u001b[49m\u001b[43mSIGMA\u001b[49m\u001b[43m)\u001b[49m\n\u001b[0;32m      3\u001b[0m \u001b[38;5;28mprint\u001b[39m(\u001b[38;5;124mf\u001b[39m\u001b[38;5;124m\"\u001b[39m\u001b[38;5;124mDenoised cases: \u001b[39m\u001b[38;5;132;01m{\u001b[39;00mdenoised_tiff_count\u001b[38;5;132;01m}\u001b[39;00m\u001b[38;5;124m\"\u001b[39m)\n",
      "Cell \u001b[1;32mIn[49], line 15\u001b[0m, in \u001b[0;36mdenoising_pipeline\u001b[1;34m(tiff_directories, final_denoised_dataset, SIGMA)\u001b[0m\n\u001b[0;32m     13\u001b[0m         tiff_file_path \u001b[38;5;241m=\u001b[39m os\u001b[38;5;241m.\u001b[39mpath\u001b[38;5;241m.\u001b[39mjoin(tiff_dir, tiff_file)\n\u001b[0;32m     14\u001b[0m         output_path \u001b[38;5;241m=\u001b[39m generate_out_path(tiff_file_path, final_denoised_dataset, SIGMA)\n\u001b[1;32m---> 15\u001b[0m         \u001b[43mdenoise\u001b[49m\u001b[43m(\u001b[49m\u001b[43mtiff_file_path\u001b[49m\u001b[43m,\u001b[49m\u001b[43m \u001b[49m\u001b[43moutput_path\u001b[49m\u001b[43m,\u001b[49m\u001b[43m \u001b[49m\u001b[43mSIGMA\u001b[49m\u001b[43m)\u001b[49m\n\u001b[0;32m     16\u001b[0m \u001b[38;5;28;01melse\u001b[39;00m:\n\u001b[0;32m     17\u001b[0m     \u001b[38;5;28;01mraise\u001b[39;00m \u001b[38;5;167;01mException\u001b[39;00m(\u001b[38;5;124mf\u001b[39m\u001b[38;5;124m\"\u001b[39m\u001b[38;5;124mNumber of tiff files in the directory is not equal to the number of tiff files in the dictionary in \u001b[39m\u001b[38;5;132;01m{\u001b[39;00mtiff_dir\u001b[38;5;132;01m}\u001b[39;00m\u001b[38;5;124m\"\u001b[39m)\n",
      "Cell \u001b[1;32mIn[47], line 4\u001b[0m, in \u001b[0;36mdenoise\u001b[1;34m(image_path, output_path, sigma)\u001b[0m\n\u001b[0;32m      2\u001b[0m \u001b[38;5;28;01mdef\u001b[39;00m \u001b[38;5;21mdenoise\u001b[39m(image_path, output_path, sigma\u001b[38;5;241m=\u001b[39mSIGMA):\n\u001b[0;32m      3\u001b[0m \u001b[38;5;250m    \u001b[39m\u001b[38;5;124;03m'''function to denoise the image'''\u001b[39;00m\n\u001b[1;32m----> 4\u001b[0m     bm3d_denoised \u001b[38;5;241m=\u001b[39m \u001b[43mbm3d_denoise\u001b[49m\u001b[43m(\u001b[49m\u001b[43mimage_path\u001b[49m\u001b[43m,\u001b[49m\u001b[43m \u001b[49m\u001b[43msigma\u001b[49m\u001b[43m)\u001b[49m\n\u001b[0;32m      5\u001b[0m     svd_denoised \u001b[38;5;241m=\u001b[39m get_svd_image_from_array(bm3d_denoised)\n\u001b[0;32m      6\u001b[0m     save_denoised_image_as_tiff(svd_denoised, output_path)\n",
      "Cell \u001b[1;32mIn[43], line 5\u001b[0m, in \u001b[0;36mbm3d_denoise\u001b[1;34m(noisy_image, npsd_sigma)\u001b[0m\n\u001b[0;32m      3\u001b[0m noisy_oct \u001b[38;5;241m=\u001b[39m img_as_float(io\u001b[38;5;241m.\u001b[39mimread(noisy_image, as_gray\u001b[38;5;241m=\u001b[39m\u001b[38;5;28;01mTrue\u001b[39;00m))\n\u001b[0;32m      4\u001b[0m sigma \u001b[38;5;241m=\u001b[39m npsd_sigma\n\u001b[1;32m----> 5\u001b[0m bm3d_denoised \u001b[38;5;241m=\u001b[39m \u001b[43mbm3d\u001b[49m\u001b[38;5;241;43m.\u001b[39;49m\u001b[43mbm3d\u001b[49m\u001b[43m(\u001b[49m\u001b[43mnoisy_oct\u001b[49m\u001b[43m,\u001b[49m\u001b[43m \u001b[49m\u001b[43msigma_psd\u001b[49m\u001b[38;5;241;43m=\u001b[39;49m\u001b[43msigma\u001b[49m\u001b[43m,\u001b[49m\u001b[43m \u001b[49m\u001b[43mstage_arg\u001b[49m\u001b[38;5;241;43m=\u001b[39;49m\u001b[43mbm3d\u001b[49m\u001b[38;5;241;43m.\u001b[39;49m\u001b[43mBM3DStages\u001b[49m\u001b[38;5;241;43m.\u001b[39;49m\u001b[43mALL_STAGES\u001b[49m\u001b[43m)\u001b[49m\n\u001b[0;32m      6\u001b[0m \u001b[38;5;28;01mreturn\u001b[39;00m bm3d_denoised\n",
      "File \u001b[1;32mc:\\Users\\ASUS\\AppData\\Local\\Programs\\Python\\Python311\\Lib\\site-packages\\bm3d\\__init__.py:219\u001b[0m, in \u001b[0;36mbm3d\u001b[1;34m(z, sigma_psd, profile, stage_arg, blockmatches)\u001b[0m\n\u001b[0;32m    217\u001b[0m         y_hat, bm \u001b[38;5;241m=\u001b[39m _bm4d\u001b[38;5;241m.\u001b[39mbm4d(z, sigma_psd, converted_profile, stage_arg, blockmatches)\n\u001b[0;32m    218\u001b[0m     \u001b[38;5;28;01melse\u001b[39;00m:\n\u001b[1;32m--> 219\u001b[0m         y_hat \u001b[38;5;241m=\u001b[39m \u001b[43m_bm4d\u001b[49m\u001b[38;5;241;43m.\u001b[39;49m\u001b[43mbm4d\u001b[49m\u001b[43m(\u001b[49m\u001b[43mz\u001b[49m\u001b[43m,\u001b[49m\u001b[43m \u001b[49m\u001b[43msigma_psd\u001b[49m\u001b[43m,\u001b[49m\u001b[43m \u001b[49m\u001b[43mconverted_profile\u001b[49m\u001b[43m,\u001b[49m\u001b[43m \u001b[49m\u001b[43mstage_arg\u001b[49m\u001b[43m,\u001b[49m\u001b[43m \u001b[49m\u001b[43mblockmatches\u001b[49m\u001b[43m)\u001b[49m\n\u001b[0;32m    221\u001b[0m \u001b[38;5;66;03m# Remove useless dimension if only single output\u001b[39;00m\n\u001b[0;32m    222\u001b[0m \u001b[38;5;28;01mif\u001b[39;00m channel_count \u001b[38;5;241m==\u001b[39m \u001b[38;5;241m1\u001b[39m:\n",
      "File \u001b[1;32mc:\\Users\\ASUS\\AppData\\Local\\Programs\\Python\\Python311\\Lib\\site-packages\\bm4d\\__init__.py:217\u001b[0m, in \u001b[0;36mbm4d\u001b[1;34m(z, sigma_psd, profile, stage_arg, blockmatches)\u001b[0m\n\u001b[0;32m    213\u001b[0m t_forward, t_inverse, hadper_trans_single_den, \\\n\u001b[0;32m    214\u001b[0m     inverse_hadper_trans_single_den, wwin3d \u001b[38;5;241m=\u001b[39m _get_transforms(pro, \u001b[38;5;28;01mTrue\u001b[39;00m)\n\u001b[0;32m    216\u001b[0m \u001b[38;5;66;03m# Call the actual hard-thresholding step with the acquired parameters\u001b[39;00m\n\u001b[1;32m--> 217\u001b[0m y_hat, bm_out_ht \u001b[38;5;241m=\u001b[39m \u001b[43mht_fn\u001b[49m\u001b[43m(\u001b[49m\u001b[43mz\u001b[49m\u001b[43m,\u001b[49m\u001b[43m \u001b[49m\u001b[43mpsd_blur\u001b[49m\u001b[43m,\u001b[49m\u001b[43m \u001b[49m\u001b[43mpro\u001b[49m\u001b[43m,\u001b[49m\u001b[43m \u001b[49m\u001b[43mt_forward\u001b[49m\u001b[43m,\u001b[49m\u001b[43m \u001b[49m\u001b[43mt_inverse\u001b[49m\u001b[43m,\u001b[49m\u001b[43m \u001b[49m\u001b[43mqshifts\u001b[49m\u001b[43m,\u001b[49m\u001b[43m \u001b[49m\u001b[43mhadper_trans_single_den\u001b[49m\u001b[43m,\u001b[49m\n\u001b[0;32m    218\u001b[0m \u001b[43m                        \u001b[49m\u001b[43minverse_hadper_trans_single_den\u001b[49m\u001b[43m,\u001b[49m\u001b[43m \u001b[49m\u001b[43mwwin3d\u001b[49m\u001b[43m,\u001b[49m\u001b[43m \u001b[49m\u001b[43mblockmatches\u001b[49m\u001b[38;5;241;43m=\u001b[39;49m\u001b[43mbm_in_ht\u001b[49m\u001b[43m)\u001b[49m\n\u001b[0;32m    220\u001b[0m \u001b[38;5;66;03m# Residual denoising, HT\u001b[39;00m\n\u001b[0;32m    221\u001b[0m \u001b[38;5;28;01mif\u001b[39;00m pro\u001b[38;5;241m.\u001b[39mdenoise_residual:\n",
      "File \u001b[1;32mc:\\Users\\ASUS\\AppData\\Local\\Programs\\Python\\Python311\\Lib\\site-packages\\bm4d\\bm4d_ctypes.py:605\u001b[0m, in \u001b[0;36mbm4d_ht\u001b[1;34m(z, psd, pro, t_forward, t_inverse, qshifts, hadper_trans_single_den, inverse_hadper_trans_single_den, wwin3d, refilter, blockmatches)\u001b[0m\n\u001b[0;32m    602\u001b[0m c_psd \u001b[38;5;241m=\u001b[39m conv_to_array(np\u001b[38;5;241m.\u001b[39mascontiguousarray(psd\u001b[38;5;241m.\u001b[39mflatten(), dtype\u001b[38;5;241m=\u001b[39mnp\u001b[38;5;241m.\u001b[39mfloat32), ctype\u001b[38;5;241m=\u001b[39mctypes\u001b[38;5;241m.\u001b[39mc_float)\n\u001b[0;32m    603\u001b[0m c_est \u001b[38;5;241m=\u001b[39m conv_to_array(np\u001b[38;5;241m.\u001b[39mascontiguousarray(res\u001b[38;5;241m.\u001b[39mflatten(), dtype\u001b[38;5;241m=\u001b[39mnp\u001b[38;5;241m.\u001b[39mfloat32), ctype\u001b[38;5;241m=\u001b[39mctypes\u001b[38;5;241m.\u001b[39mc_float)\n\u001b[1;32m--> 605\u001b[0m \u001b[43mfunc_ht\u001b[49m\u001b[43m(\u001b[49m\u001b[43mc_z\u001b[49m\u001b[43m,\u001b[49m\u001b[43m \u001b[49m\u001b[43mc_psd\u001b[49m\u001b[43m,\u001b[49m\u001b[43m \u001b[49m\u001b[43mparams\u001b[49m\u001b[43m,\u001b[49m\u001b[43m \u001b[49m\u001b[43mtransforms\u001b[49m\u001b[43m,\u001b[49m\u001b[43m \u001b[49m\u001b[43mc_est\u001b[49m\u001b[43m,\u001b[49m\n\u001b[0;32m    606\u001b[0m \u001b[43m        \u001b[49m\u001b[43mctypes\u001b[49m\u001b[38;5;241;43m.\u001b[39;49m\u001b[43mbyref\u001b[49m\u001b[43m(\u001b[49m\u001b[43mmatchtables\u001b[49m\u001b[43m)\u001b[49m\u001b[43m \u001b[49m\u001b[38;5;28;43;01mif\u001b[39;49;00m\u001b[43m \u001b[49m\u001b[43mmatchtables\u001b[49m\u001b[43m \u001b[49m\u001b[38;5;129;43;01mis\u001b[39;49;00m\u001b[43m \u001b[49m\u001b[38;5;129;43;01mnot\u001b[39;49;00m\u001b[43m \u001b[49m\u001b[38;5;28;43;01mNone\u001b[39;49;00m\u001b[43m \u001b[49m\u001b[38;5;28;43;01melse\u001b[39;49;00m\u001b[43m \u001b[49m\u001b[43mmatchtables\u001b[49m\u001b[43m)\u001b[49m\n\u001b[0;32m    608\u001b[0m \u001b[38;5;28;01mfor\u001b[39;00m i \u001b[38;5;129;01min\u001b[39;00m \u001b[38;5;28mrange\u001b[39m(z_shape[\u001b[38;5;241m0\u001b[39m]):\n\u001b[0;32m    609\u001b[0m     \u001b[38;5;28;01mfor\u001b[39;00m j \u001b[38;5;129;01min\u001b[39;00m \u001b[38;5;28mrange\u001b[39m(z_shape[\u001b[38;5;241m1\u001b[39m]):\n",
      "\u001b[1;31mKeyboardInterrupt\u001b[0m: "
     ]
    }
   ],
   "source": [
    "# denoising pipeline for denoise the tiff images in each and every tiff directories\n",
    "denoised_tiff_count = denoising_pipeline(tiff_directories, final_denoised_dataset, SIGMA)\n",
    "print(f\"Denoised cases: {denoised_tiff_count}\")"
   ]
  },
  {
   "cell_type": "code",
   "execution_count": null,
   "metadata": {},
   "outputs": [],
   "source": []
  },
  {
   "cell_type": "code",
   "execution_count": null,
   "metadata": {},
   "outputs": [],
   "source": []
  },
  {
   "cell_type": "code",
   "execution_count": null,
   "metadata": {},
   "outputs": [],
   "source": []
  }
 ],
 "metadata": {
  "kernelspec": {
   "display_name": "Python 3",
   "language": "python",
   "name": "python3"
  },
  "language_info": {
   "codemirror_mode": {
    "name": "ipython",
    "version": 3
   },
   "file_extension": ".py",
   "mimetype": "text/x-python",
   "name": "python",
   "nbconvert_exporter": "python",
   "pygments_lexer": "ipython3",
   "version": "3.11.3"
  }
 },
 "nbformat": 4,
 "nbformat_minor": 2
}
