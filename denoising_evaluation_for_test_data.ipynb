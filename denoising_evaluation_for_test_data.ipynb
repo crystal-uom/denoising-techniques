{
 "cells": [
  {
   "cell_type": "code",
   "execution_count": 15,
   "metadata": {},
   "outputs": [],
   "source": [
    "import numpy as np\n",
    "import bm3d\n",
    "from pathlib import Path\n",
    "import pickle\n",
    "from skimage import io, img_as_float\n",
    "import nibabel as nib\n",
    "import os\n",
    "import glob\n",
    "from collections import defaultdict"
   ]
  },
  {
   "cell_type": "markdown",
   "metadata": {},
   "source": [
    "File Paths"
   ]
  },
  {
   "cell_type": "code",
   "execution_count": 16,
   "metadata": {},
   "outputs": [],
   "source": [
    "icip_data = \"D:/VIP Cup/Dataset/ICIP training data/\"\n",
    "denoised_pkl_dataset = \"D:/VIP Cup/Output dataset/pkl_data\"\n",
    "final_denoised_dataset = \"D:/VIP Cup/Output dataset/final_pipeline_denoised_tiff_dataset\"\n",
    "test_dataset = \"D:/VIP Cup/Dataset/ICIP_test_data_final\"\n"
   ]
  },
  {
   "cell_type": "markdown",
   "metadata": {},
   "source": [
    "Constants"
   ]
  },
  {
   "cell_type": "code",
   "execution_count": 17,
   "metadata": {},
   "outputs": [],
   "source": [
    "tiff_directories = defaultdict(int)\n",
    "denoised_tiff_count = 0\n",
    "original_tiff_count = 0\n",
    "SIGMA = 30\n",
    "oct_height = 300\n",
    "oct_width = 300"
   ]
  },
  {
   "cell_type": "markdown",
   "metadata": {},
   "source": [
    "Functions to check whether a tiff file/directory or not"
   ]
  },
  {
   "cell_type": "code",
   "execution_count": 18,
   "metadata": {},
   "outputs": [],
   "source": [
    "def is_tiff_dir(curr_path):\n",
    "    '''function to check if the current directory having any tiff files'''\n",
    "    num_tiff = len(glob.glob(os.path.join(curr_path, '*.tif')))\n",
    "    return num_tiff\n",
    "\n",
    "def is_tiff(curr_path):\n",
    "    '''function to check if the current file is a tiff file or not'''\n",
    "    if os.path.isfile(curr_path) and (\".tif\" in curr_path):\n",
    "        return True\n",
    "    else:\n",
    "        return False"
   ]
  },
  {
   "cell_type": "markdown",
   "metadata": {},
   "source": [
    "Searching tiff directories"
   ]
  },
  {
   "cell_type": "code",
   "execution_count": 19,
   "metadata": {},
   "outputs": [
    {
     "name": "stdout",
     "output_type": "stream",
     "text": [
      "1th case D:/VIP Cup/Dataset/ICIP_test_data_final\\RawDataQA (1) ......\n",
      "2th case D:/VIP Cup/Dataset/ICIP_test_data_final\\RawDataQA (10) ......\n",
      "3th case D:/VIP Cup/Dataset/ICIP_test_data_final\\RawDataQA (11) ......\n",
      "4th case D:/VIP Cup/Dataset/ICIP_test_data_final\\RawDataQA (12) ......\n",
      "5th case D:/VIP Cup/Dataset/ICIP_test_data_final\\RawDataQA (13) ......\n",
      "6th case D:/VIP Cup/Dataset/ICIP_test_data_final\\RawDataQA (14) ......\n",
      "7th case D:/VIP Cup/Dataset/ICIP_test_data_final\\RawDataQA (15) ......\n",
      "8th case D:/VIP Cup/Dataset/ICIP_test_data_final\\RawDataQA (16) ......\n",
      "9th case D:/VIP Cup/Dataset/ICIP_test_data_final\\RawDataQA (17) ......\n",
      "10th case D:/VIP Cup/Dataset/ICIP_test_data_final\\RawDataQA (18) ......\n",
      "11th case D:/VIP Cup/Dataset/ICIP_test_data_final\\RawDataQA (2) ......\n",
      "12th case D:/VIP Cup/Dataset/ICIP_test_data_final\\RawDataQA (3) ......\n",
      "13th case D:/VIP Cup/Dataset/ICIP_test_data_final\\RawDataQA (4) ......\n",
      "14th case D:/VIP Cup/Dataset/ICIP_test_data_final\\RawDataQA (5) ......\n",
      "15th case D:/VIP Cup/Dataset/ICIP_test_data_final\\RawDataQA (6) ......\n",
      "16th case D:/VIP Cup/Dataset/ICIP_test_data_final\\RawDataQA (7) ......\n",
      "17th case D:/VIP Cup/Dataset/ICIP_test_data_final\\RawDataQA (8) ......\n",
      "18th case D:/VIP Cup/Dataset/ICIP_test_data_final\\RawDataQA (9) ......\n",
      "Denoised cases: 18\n",
      "Original tiff images: 3631\n"
     ]
    }
   ],
   "source": [
    "tiff_directories = defaultdict(int)\n",
    "denoised_tiff_count = 0\n",
    "original_tiff_count = 0\n",
    "SIGMA = 30\n",
    "\n",
    "dataset = glob.iglob(os.path.join(test_dataset, '**'), recursive=True)\n",
    "\n",
    "for i,file in enumerate(dataset):\n",
    "    if is_tiff_dir(file):\n",
    "\n",
    "        current_tiff_count = is_tiff_dir(file)\n",
    "        tiff_directories[file] = current_tiff_count\n",
    "        print(f\"{len(tiff_directories)}th case {file} ......\")\n",
    "        original_tiff_count += current_tiff_count\n",
    "\n",
    "\n",
    "\n",
    "print(f\"Denoised cases: {len(tiff_directories)}\")\n",
    "#print(f\"Denoised tiff images: {denoised_tiff_count}\")\n",
    "print(f\"Original tiff images: {original_tiff_count}\")\n"
   ]
  },
  {
   "cell_type": "markdown",
   "metadata": {},
   "source": [
    "Denoising Function"
   ]
  },
  {
   "cell_type": "code",
   "execution_count": 66,
   "metadata": {},
   "outputs": [],
   "source": [
    "import numpy as np\n",
    "from numpy.linalg import svd\n",
    "import cv2\n",
    "\n",
    "def get_svd_image(image_path):\n",
    "    # Read the grayscale image using OpenCV\n",
    "    A = cv2.imread(image_path, cv2.IMREAD_GRAYSCALE)\n",
    "\n",
    "    if A is None:\n",
    "        raise ValueError(\"Image not found or could not be read.\")\n",
    "\n",
    "    # Perform SVD\n",
    "    U, S, Vt = svd(A)\n",
    "    S_matrix = np.diag(S)\n",
    "\n",
    "    # Define the threshold\n",
    "    threshold = 400\n",
    "    filter = (S_matrix > threshold)*1 \n",
    "    filtered_S = np.multiply(S_matrix, filter)\n",
    "\n",
    "    final_S = np.zeros(A.shape, dtype=np.uint8)\n",
    "    final_S[:150, :150] = filtered_S\n",
    "\n",
    "    now_image = np.dot(U, np.dot(final_S, Vt))\n",
    "\n",
    "    return now_image"
   ]
  },
  {
   "cell_type": "code",
   "execution_count": 67,
   "metadata": {},
   "outputs": [],
   "source": [
    "import numpy as np\n",
    "from numpy.linalg import svd\n",
    "from PIL import Image\n",
    "import math\n",
    "\n",
    "def get_svd_image_from_array(A):\n",
    "\n",
    "    if A is None:\n",
    "        raise ValueError(\"Image not found or could not be read.\")\n",
    "\n",
    "    # Perform SVD\n",
    "    U, S, Vt = svd(A)\n",
    "    S_matrix = np.diag(S)\n",
    "\n",
    "    # Define the threshold\n",
    "    threshold = 400\n",
    "    filter = (S_matrix > threshold)*1 \n",
    "    filtered_S = np.multiply(S_matrix, filter)\n",
    "\n",
    "    final_S = np.zeros(A.shape, dtype=np.uint8)\n",
    "    final_S[:150, :150] = filtered_S\n",
    "\n",
    "    now_image = np.dot(U, np.dot(final_S, Vt))\n",
    "\n",
    "    return now_image"
   ]
  },
  {
   "cell_type": "code",
   "execution_count": 68,
   "metadata": {},
   "outputs": [],
   "source": [
    "def open_noisy_image_as_array(image_path):\n",
    "    image_array = cv2.imread(image_path, cv2.IMREAD_GRAYSCALE)\n",
    "    return np.array(image_array)"
   ]
  },
  {
   "cell_type": "code",
   "execution_count": 69,
   "metadata": {},
   "outputs": [],
   "source": [
    "def bm3d_denoise(noisy_image, npsd_sigma=SIGMA):\n",
    "\n",
    "    noisy_oct = cv2.imread(noisy_image, cv2.IMREAD_GRAYSCALE)\n",
    "    sigma = npsd_sigma\n",
    "    bm3d_denoised = bm3d.bm3d(noisy_oct, sigma_psd=sigma, stage_arg=bm3d.BM3DStages.ALL_STAGES)\n",
    "    return bm3d_denoised"
   ]
  },
  {
   "cell_type": "code",
   "execution_count": 70,
   "metadata": {},
   "outputs": [],
   "source": [
    "def bm3d_denoise_from_image_array(noisy_image_array, npsd_sigma = SIGMA):\n",
    "\n",
    "    sigma = npsd_sigma\n",
    "    bm3d_denoised = bm3d.bm3d(noisy_image_array, sigma_psd=sigma, stage_arg=bm3d.BM3DStages.ALL_STAGES)\n",
    "    return bm3d_denoised"
   ]
  },
  {
   "cell_type": "markdown",
   "metadata": {},
   "source": [
    "Evaluation Metrics"
   ]
  },
  {
   "cell_type": "code",
   "execution_count": 71,
   "metadata": {},
   "outputs": [],
   "source": [
    "from skimage import exposure as ex\n",
    "from skimage.filters import threshold_otsu\n",
    "from skimage.morphology import convex_hull_image\n",
    "import numpy as np\n",
    "\n",
    "def get_foreground_mask(img_array, save_folder=None):\n",
    "\n",
    "    img = bm3d_denoise_from_image_array(img_array, npsd_sigma=32)\n",
    "\n",
    "    \n",
    "    # Histogram equalization\n",
    "    h = ex.equalize_hist(img[:,:]) * 255\n",
    "    \n",
    "    # Thresholding using Otsu's method on original image\n",
    "    oi = np.zeros_like(img, dtype=np.uint16)\n",
    "    oi[(img > threshold_otsu(img))] = 1\n",
    "    \n",
    "    # Thresholding using Otsu's method on histogram equalized image\n",
    "    oh = np.zeros_like(img, dtype=np.uint16)\n",
    "    oh[(h > threshold_otsu(h))] = 1\n",
    "    \n",
    "    # Calculate weights based on the percentage of pixels above Otsu's threshold\n",
    "    nm = img.shape[0] * img.shape[1]\n",
    "    w1 = np.sum(oi) / nm\n",
    "    w2 = np.sum(oh) / nm\n",
    "    \n",
    "    # Combine images using weighted sum\n",
    "    ots = np.zeros_like(img, dtype=np.uint16)\n",
    "    new = (w1 * img) + (w2 * h)\n",
    "    ots[(new > threshold_otsu(new))] = 1 \n",
    "    \n",
    "    # Compute convex hull of the thresholded image\n",
    "    conv_hull = convex_hull_image(ots)\n",
    "    \n",
    "    # Convert convex hull to binary (0 or 1)\n",
    "    ch = np.multiply(conv_hull, 1)\n",
    "    \n",
    "    return ch"
   ]
  },
  {
   "cell_type": "code",
   "execution_count": 72,
   "metadata": {},
   "outputs": [],
   "source": [
    "def get_foreground_background(image_array, foreground_mask):\n",
    "    fore_img = foreground_mask*image_array\n",
    "    back_img = (1-foreground_mask)*image_array\n",
    "    return fore_img, back_img\n"
   ]
  },
  {
   "cell_type": "code",
   "execution_count": 73,
   "metadata": {},
   "outputs": [],
   "source": [
    "import numpy as np\n",
    "\n",
    "def calculate_absolute_cnr(foreground, background):\n",
    "    # Convert images to float arrays for numerical operations\n",
    "    foreground = foreground.astype(np.float64)\n",
    "    background = background.astype(np.float64)\n",
    "    \n",
    "    # Calculate mean intensities\n",
    "    mean_foreground = np.mean(foreground)\n",
    "    mean_background = np.mean(background)\n",
    "    \n",
    "    # Calculate standard deviations\n",
    "    std_foreground = np.std(foreground)\n",
    "    std_background = np.std(background)\n",
    "    \n",
    "    # Calculate contrast-to-noise ratio (CNR)\n",
    "    numerator = np.abs(mean_foreground - mean_background)\n",
    "    denominator = np.sqrt((std_foreground**2 + std_background**2) / 2)\n",
    "    cnr = 10*np.log10(numerator / denominator)\n",
    "    \n",
    "    return cnr"
   ]
  },
  {
   "cell_type": "code",
   "execution_count": 74,
   "metadata": {},
   "outputs": [],
   "source": [
    "def calculate_msr(fore_ground_data):\n",
    "    \"\"\"\n",
    "    Calculate Mean-to-Standard Deviation Ratio (MSR) of a dataset.\n",
    "\n",
    "    Parameters:\n",
    "    - data: NumPy array or list, input dataset\n",
    "\n",
    "    Returns:\n",
    "    - msr: float, Mean-to-Standard Deviation Ratio\n",
    "    \"\"\"\n",
    "    # Compute mean and standard deviation of the data\n",
    "\n",
    "    mean_val = np.mean(fore_ground_data)\n",
    "    std_dev = np.std(fore_ground_data)\n",
    "    \n",
    "    # Calculate MSR (mean-to-standard deviation ratio)\n",
    "    if std_dev != 0:\n",
    "        msr = mean_val / std_dev\n",
    "    else:\n",
    "        msr = float('inf')  # Handle division by zero case\n",
    "    \n",
    "    return msr"
   ]
  },
  {
   "cell_type": "code",
   "execution_count": 75,
   "metadata": {},
   "outputs": [],
   "source": [
    "def eval_image(image_array, foreground_mask):\n",
    "    # Get foreground and background images\n",
    "    foreground, background = get_foreground_background(image_array, foreground_mask=foreground_mask)\n",
    "    \n",
    "    # Calculate CNR\n",
    "    cnr = calculate_absolute_cnr(foreground, background)\n",
    "    \n",
    "    # Calculate MSR\n",
    "    msr = calculate_msr(foreground)\n",
    "    \n",
    "    return cnr, msr"
   ]
  },
  {
   "cell_type": "code",
   "execution_count": 76,
   "metadata": {},
   "outputs": [],
   "source": [
    "test_im_path = \"D:/VIP Cup/Dataset/ICIP_test_data_final/RawDataQA (2)/(11).tif\""
   ]
  },
  {
   "cell_type": "code",
   "execution_count": 78,
   "metadata": {},
   "outputs": [
    {
     "name": "stdout",
     "output_type": "stream",
     "text": [
      "raw_image: CNR: 1.4901235501927768, MSR: 1.7056874497348908\n",
      "\n",
      "bm3d_denoised: CNR: 1.5916440377281582, MSR: 1.7637152200863107\n",
      "\n",
      "svd_denoised: CNR: -7.401444222038608, MSR: 0.11965283608417918\n",
      "\n",
      "pipeline_denoised: CNR: -3.9948648652981733, MSR: 0.29594803033015266\n",
      "\n"
     ]
    },
    {
     "data": {
      "image/png": "[encoded data removed]",
      "text/plain": [
       "<Figure size 640x480 with 1 Axes>"
      ]
     },
     "metadata": {},
     "output_type": "display_data"
    }
   ],
   "source": [
    "from matplotlib import pyplot as plt\n",
    "\n",
    "raw_image = open_noisy_image_as_array(test_im_path)\n",
    "\n",
    "mask = get_foreground_mask(raw_image)\n",
    "\n",
    "raw_image = open_noisy_image_as_array(test_im_path)\n",
    "cnr, msr = eval_image(raw_image,mask)\n",
    "print(f\"raw_image: CNR: {cnr}, MSR: {msr}\")\n",
    "plt.imshow(raw_image,cmap='gray')\n",
    "print()\n",
    "\n",
    "bm3d_denoise_image = bm3d_denoise(test_im_path, 29)\n",
    "cnr, msr = eval_image(bm3d_denoise_image,mask)\n",
    "print(f\"bm3d_denoised: CNR: {cnr}, MSR: {msr}\")\n",
    "plt.imshow(bm3d_denoise_image,cmap='gray')\n",
    "print()\n",
    "\n",
    "svd_image = get_svd_image(test_im_path)\n",
    "cnr, msr = eval_image(svd_image,mask)\n",
    "print(f\"svd_denoised: CNR: {cnr}, MSR: {msr}\")\n",
    "plt.imshow(svd_image,cmap='gray')\n",
    "print()\n",
    "\n",
    "\n",
    "pipelined_image = get_svd_image_from_array(bm3d_denoise_image)\n",
    "cnr, msr = eval_image(pipelined_image,mask)\n",
    "print(f\"pipeline_denoised: CNR: {cnr}, MSR: {msr}\")\n",
    "plt.imshow(pipelined_image,cmap='gray')\n",
    "print()"
   ]
  },
  {
   "cell_type": "code",
   "execution_count": 79,
   "metadata": {},
   "outputs": [
    {
     "data": {
      "text/plain": [
       "(300, 150)"
      ]
     },
     "execution_count": 79,
     "metadata": {},
     "output_type": "execute_result"
    }
   ],
   "source": [
    "pipelined_image.shape"
   ]
  },
  {
   "cell_type": "code",
   "execution_count": 80,
   "metadata": {},
   "outputs": [],
   "source": [
    "kif_oct_path = \"D:/VIP Cup/Dataset/ICIP training data/1/RawDataQA-1 (21)/RawDataQA-1-21 (66).tiff\""
   ]
  },
  {
   "cell_type": "code",
   "execution_count": 81,
   "metadata": {},
   "outputs": [],
   "source": [
    "def find_sigma(test_image, sigma):\n",
    "    \n",
    "    raw_image = open_noisy_image_as_array(test_image)\n",
    "    bm3d_denoised_image = bm3d_denoise(test_image, npsd_sigma=sigma)\n",
    "    cnr, msr = eval_image(bm3d_denoised_image)\n",
    "    print(f\"bmsd denoised_image: CNR: {cnr}, MSR: {msr}\")\n",
    "\n",
    "    import matplotlib.pyplot as plt\n",
    "\n",
    "    # Plot the noisy raw image\n",
    "    plt.subplot(1, 2, 1)\n",
    "    plt.imshow(raw_image, cmap='gray')\n",
    "    plt.title('Noisy Raw Image')\n",
    "\n",
    "    # Plot the BM3D denoised image\n",
    "    plt.subplot(1, 2, 2)\n",
    "    plt.imshow(bm3d_denoised_image, cmap='gray')\n",
    "    plt.title('BM3D Denoised Image')\n",
    "\n",
    "    # Adjust the spacing between subplots\n",
    "    plt.tight_layout()\n",
    "\n",
    "    # Show the plot\n",
    "    plt.show()"
   ]
  },
  {
   "cell_type": "code",
   "execution_count": 82,
   "metadata": {},
   "outputs": [
    {
     "data": {
      "text/plain": [
       "defaultdict(int,\n",
       "            {'D:/VIP Cup/Dataset/ICIP_test_data_final\\\\RawDataQA (1)': 150,\n",
       "             'D:/VIP Cup/Dataset/ICIP_test_data_final\\\\RawDataQA (10)': 262,\n",
       "             'D:/VIP Cup/Dataset/ICIP_test_data_final\\\\RawDataQA (11)': 264,\n",
       "             'D:/VIP Cup/Dataset/ICIP_test_data_final\\\\RawDataQA (12)': 237,\n",
       "             'D:/VIP Cup/Dataset/ICIP_test_data_final\\\\RawDataQA (13)': 262,\n",
       "             'D:/VIP Cup/Dataset/ICIP_test_data_final\\\\RawDataQA (14)': 232,\n",
       "             'D:/VIP Cup/Dataset/ICIP_test_data_final\\\\RawDataQA (15)': 220,\n",
       "             'D:/VIP Cup/Dataset/ICIP_test_data_final\\\\RawDataQA (16)': 81,\n",
       "             'D:/VIP Cup/Dataset/ICIP_test_data_final\\\\RawDataQA (17)': 138,\n",
       "             'D:/VIP Cup/Dataset/ICIP_test_data_final\\\\RawDataQA (18)': 226,\n",
       "             'D:/VIP Cup/Dataset/ICIP_test_data_final\\\\RawDataQA (2)': 263,\n",
       "             'D:/VIP Cup/Dataset/ICIP_test_data_final\\\\RawDataQA (3)': 293,\n",
       "             'D:/VIP Cup/Dataset/ICIP_test_data_final\\\\RawDataQA (4)': 91,\n",
       "             'D:/VIP Cup/Dataset/ICIP_test_data_final\\\\RawDataQA (5)': 255,\n",
       "             'D:/VIP Cup/Dataset/ICIP_test_data_final\\\\RawDataQA (6)': 255,\n",
       "             'D:/VIP Cup/Dataset/ICIP_test_data_final\\\\RawDataQA (7)': 122,\n",
       "             'D:/VIP Cup/Dataset/ICIP_test_data_final\\\\RawDataQA (8)': 203,\n",
       "             'D:/VIP Cup/Dataset/ICIP_test_data_final\\\\RawDataQA (9)': 77})"
      ]
     },
     "execution_count": 82,
     "metadata": {},
     "output_type": "execute_result"
    }
   ],
   "source": [
    "tiff_directories"
   ]
  },
  {
   "cell_type": "markdown",
   "metadata": {},
   "source": [
    "Denoising evaluating Pipeline"
   ]
  },
  {
   "cell_type": "code",
   "execution_count": 88,
   "metadata": {},
   "outputs": [],
   "source": [
    "# denoising pipeline for denoise the tiff images in each and every tiff directories\n",
    "def denoising_evaluation_pipeline(tiff_directories):\n",
    "    '''denoising pipeline for denoise the tiff images in each and every tiff directories'''\n",
    "    count = 0\n",
    "\n",
    "    cnrs = {\"raw\": [], \"bm3d\": [], \"svd\": [], \"pipeline\": []}\n",
    "    msrs = {\"raw\": [], \"bm3d\": [], \"svd\": [], \"pipeline\": []}\n",
    "\n",
    "    for i, tiff_dir in enumerate(tiff_directories):\n",
    "        print(f\"{i}th case {tiff_dir} ......\")\n",
    "\n",
    "        tiff_files = os.listdir(tiff_dir)\n",
    "\n",
    "        if len(tiff_files) == tiff_directories[tiff_dir]:\n",
    "            for tiff_file in tiff_files[35:45]:\n",
    "                tiff_file_path = os.path.join(tiff_dir, tiff_file)\n",
    "                raw_image = open_noisy_image_as_array(tiff_file_path)\n",
    "\n",
    "                mask = get_foreground_mask(raw_image)\n",
    "\n",
    "                raw_image = open_noisy_image_as_array(tiff_file_path)\n",
    "                cnr, msr = eval_image(raw_image,mask)\n",
    "                cnrs[\"raw\"].append(cnr)\n",
    "                msrs[\"raw\"].append(msr)\n",
    "\n",
    "                bm3d_denoise_image = bm3d_denoise(tiff_file_path, 30)\n",
    "                cnr, msr = eval_image(bm3d_denoise_image,mask)\n",
    "                cnrs[\"bm3d\"].append(cnr)\n",
    "                msrs[\"bm3d\"].append(msr)\n",
    "                \n",
    "        else:\n",
    "            raise Exception(f\"Number of tiff files in the directory is not equal to the number of tiff files in the dictionary in {tiff_dir}\")\n",
    "        \n",
    "    \n",
    "        count += 1\n",
    "        print(f\"files processed: {count} ......\")\n",
    "\n",
    "    return cnrs, msrs"
   ]
  },
  {
   "cell_type": "code",
   "execution_count": 89,
   "metadata": {},
   "outputs": [
    {
     "name": "stdout",
     "output_type": "stream",
     "text": [
      "0th case D:/VIP Cup/Dataset/ICIP_test_data_final\\RawDataQA (1) ......\n",
      "files processed: 1 ......\n",
      "1th case D:/VIP Cup/Dataset/ICIP_test_data_final\\RawDataQA (10) ......\n",
      "files processed: 2 ......\n",
      "2th case D:/VIP Cup/Dataset/ICIP_test_data_final\\RawDataQA (11) ......\n",
      "files processed: 3 ......\n",
      "3th case D:/VIP Cup/Dataset/ICIP_test_data_final\\RawDataQA (12) ......\n",
      "files processed: 4 ......\n",
      "4th case D:/VIP Cup/Dataset/ICIP_test_data_final\\RawDataQA (13) ......\n",
      "files processed: 5 ......\n",
      "5th case D:/VIP Cup/Dataset/ICIP_test_data_final\\RawDataQA (14) ......\n",
      "files processed: 6 ......\n",
      "6th case D:/VIP Cup/Dataset/ICIP_test_data_final\\RawDataQA (15) ......\n",
      "files processed: 7 ......\n",
      "7th case D:/VIP Cup/Dataset/ICIP_test_data_final\\RawDataQA (16) ......\n",
      "files processed: 8 ......\n",
      "8th case D:/VIP Cup/Dataset/ICIP_test_data_final\\RawDataQA (17) ......\n",
      "files processed: 9 ......\n",
      "9th case D:/VIP Cup/Dataset/ICIP_test_data_final\\RawDataQA (18) ......\n",
      "files processed: 10 ......\n",
      "10th case D:/VIP Cup/Dataset/ICIP_test_data_final\\RawDataQA (2) ......\n",
      "files processed: 11 ......\n",
      "11th case D:/VIP Cup/Dataset/ICIP_test_data_final\\RawDataQA (3) ......\n",
      "files processed: 12 ......\n",
      "12th case D:/VIP Cup/Dataset/ICIP_test_data_final\\RawDataQA (4) ......\n",
      "files processed: 13 ......\n",
      "13th case D:/VIP Cup/Dataset/ICIP_test_data_final\\RawDataQA (5) ......\n",
      "files processed: 14 ......\n",
      "14th case D:/VIP Cup/Dataset/ICIP_test_data_final\\RawDataQA (6) ......\n",
      "files processed: 15 ......\n",
      "15th case D:/VIP Cup/Dataset/ICIP_test_data_final\\RawDataQA (7) ......\n",
      "files processed: 16 ......\n",
      "16th case D:/VIP Cup/Dataset/ICIP_test_data_final\\RawDataQA (8) ......\n",
      "files processed: 17 ......\n",
      "17th case D:/VIP Cup/Dataset/ICIP_test_data_final\\RawDataQA (9) ......\n",
      "files processed: 18 ......\n"
     ]
    }
   ],
   "source": [
    "# denoising pipeline for denoise the tiff images in each and every tiff directories\n",
    "cnrs, msrs = denoising_evaluation_pipeline(tiff_directories=tiff_directories)"
   ]
  },
  {
   "cell_type": "code",
   "execution_count": 90,
   "metadata": {},
   "outputs": [
    {
     "data": {
      "text/plain": [
       "(180, 180, 0, 0)"
      ]
     },
     "execution_count": 90,
     "metadata": {},
     "output_type": "execute_result"
    }
   ],
   "source": [
    "len(cnrs[\"raw\"]), len(cnrs[\"bm3d\"]), len(cnrs[\"svd\"]), len(cnrs[\"pipeline\"])"
   ]
  },
  {
   "cell_type": "code",
   "execution_count": 91,
   "metadata": {},
   "outputs": [
    {
     "data": {
      "text/plain": [
       "(180, 180, 0, 0)"
      ]
     },
     "execution_count": 91,
     "metadata": {},
     "output_type": "execute_result"
    }
   ],
   "source": [
    "len(msrs[\"raw\"]), len(msrs[\"bm3d\"]), len(msrs[\"svd\"]), len(msrs[\"pipeline\"])"
   ]
  },
  {
   "cell_type": "markdown",
   "metadata": {},
   "source": [
    "Training Dataset"
   ]
  },
  {
   "cell_type": "code",
   "execution_count": 92,
   "metadata": {},
   "outputs": [
    {
     "name": "stdout",
     "output_type": "stream",
     "text": [
      "raw: CNR: 2.5608417080630224, MSR: 2.0035241801242436\n",
      "bm3d: CNR: 2.745131174995758, MSR: 2.136875665886958\n",
      "svd: CNR: nan, MSR: nan\n",
      "pipeline: CNR: nan, MSR: nan\n"
     ]
    }
   ],
   "source": [
    "print(f\"raw: CNR: {np.mean(cnrs['raw'])}, MSR: {np.mean(msrs['raw'])}\")\n",
    "print(f\"bm3d: CNR: {np.mean(cnrs['bm3d'])}, MSR: {np.mean(msrs['bm3d'])}\")\n",
    "print(f\"svd: CNR: {np.mean(cnrs['svd'])}, MSR: {np.mean(msrs['svd'])}\")\n",
    "print(f\"pipeline: CNR: {np.mean(cnrs['pipeline'])}, MSR: {np.mean(msrs['pipeline'])}\")"
   ]
  },
  {
   "cell_type": "code",
   "execution_count": null,
   "metadata": {},
   "outputs": [],
   "source": []
  }
 ],
 "metadata": {
  "kernelspec": {
   "display_name": "Python 3",
   "language": "python",
   "name": "python3"
  },
  "language_info": {
   "codemirror_mode": {
    "name": "ipython",
    "version": 3
   },
   "file_extension": ".py",
   "mimetype": "text/x-python",
   "name": "python",
   "nbconvert_exporter": "python",
   "pygments_lexer": "ipython3",
   "version": "3.11.3"
  }
 },
 "nbformat": 4,
 "nbformat_minor": 2
}
